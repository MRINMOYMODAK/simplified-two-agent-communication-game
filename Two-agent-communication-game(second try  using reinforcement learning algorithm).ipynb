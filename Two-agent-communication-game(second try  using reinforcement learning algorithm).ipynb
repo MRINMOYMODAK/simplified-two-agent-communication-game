{
 "cells": [
  {
   "cell_type": "code",
   "execution_count": 10,
   "id": "5c0789c3",
   "metadata": {},
   "outputs": [],
   "source": [
    "import torch\n",
    "import torch.nn as nn\n",
    "import torch.optim as optim\n",
    "import torch.nn.functional as F\n",
    "from torch.utils.data import DataLoader, random_split\n",
    "from torchvision import datasets, transforms"
   ]
  },
  {
   "cell_type": "code",
   "execution_count": 11,
   "id": "cccf20a0",
   "metadata": {},
   "outputs": [
    {
     "name": "stdout",
     "output_type": "stream",
     "text": [
      "Files already downloaded and verified\n",
      "Files already downloaded and verified\n"
     ]
    }
   ],
   "source": [
    "# Load the CIFAR-10 dataset and filter classes\n",
    "transform = transforms.Compose([transforms.ToTensor(), transforms.Normalize((0.5,), (0.5,))])\n",
    "trainset = torchvision.datasets.CIFAR10(root='./data', train=True, download=True, transform=transform)\n",
    "testset = torchvision.datasets.CIFAR10(root='./data', train=False, download=True, transform=transform)"
   ]
  },
  {
   "cell_type": "code",
   "execution_count": 12,
   "id": "79782b44",
   "metadata": {},
   "outputs": [],
   "source": [
    "# Filter out airplane and automobile images\n",
    "trainset = [(img, label) for img, label in trainset if label in [0, 1]] # airplane = 0, automobile=1 \n",
    "testset = [(img, label) for img, label in testset if label in [0, 1]]"
   ]
  },
  {
   "cell_type": "code",
   "execution_count": 16,
   "id": "1fa19eda",
   "metadata": {},
   "outputs": [],
   "source": [
    "# Define the neural network architecture for the Speaker\n",
    "class Speaker(nn.Module):\n",
    "    def __init__(self, input_size, message_size):\n",
    "        super(Speaker, self).__init__()\n",
    "        self.fc1 = nn.Linear(input_size, 128)\n",
    "        self.fc2 = nn.Linear(128, message_size)\n",
    "\n",
    "    def forward(self, x):\n",
    "        x = torch.relu(self.fc1(x))\n",
    "        message = torch.sigmoid(self.fc2(x))\n",
    "        return message\n",
    "\n",
    "# Define the neural network architecture for the Listener\n",
    "class Listener(nn.Module):\n",
    "    def __init__(self, message_size, num_classes):\n",
    "        super(Listener, self).__init__()\n",
    "        self.fc1 = nn.Linear(message_size, 128)\n",
    "        self.fc2 = nn.Linear(128, num_classes)\n",
    "\n",
    "    def forward(self, message):\n",
    "        x = torch.relu(self.fc1(message))\n",
    "        logits = self.fc2(x)\n",
    "        return logits\n",
    "\n",
    "# Example usage:\n",
    "input_size = 32 * 32 * 3  # Flattened image size\n",
    "message_size = 5  # Size of the message produced by the Speaker\n",
    "num_classes = 2  # Number of classes in the problem (e.g., 'airplane' and 'automobile')\n",
    "\n",
    "speaker = Speaker(input_size, message_size)\n",
    "listener = Listener(message_size, num_classes)"
   ]
  },
  {
   "cell_type": "code",
   "execution_count": 18,
   "id": "157983ed",
   "metadata": {},
   "outputs": [
    {
     "name": "stdout",
     "output_type": "stream",
     "text": [
      "Epoch [1/10], Average Reward: 0.7177\n",
      "Epoch [2/10], Average Reward: 0.8071\n",
      "Epoch [3/10], Average Reward: 0.8270\n",
      "Epoch [4/10], Average Reward: 0.8532\n",
      "Epoch [5/10], Average Reward: 0.8631\n",
      "Epoch [6/10], Average Reward: 0.8851\n",
      "Epoch [7/10], Average Reward: 0.8949\n",
      "Epoch [8/10], Average Reward: 0.9110\n",
      "Epoch [9/10], Average Reward: 0.9167\n",
      "Epoch [10/10], Average Reward: 0.9229\n"
     ]
    }
   ],
   "source": [
    "import torch\n",
    "import torch.optim as optim\n",
    "import torch.nn.functional as F\n",
    "from torch.distributions import Categorical\n",
    "\n",
    "def train_agents(speaker, listener, dataloader, optimizer_speaker, optimizer_listener, num_epochs):\n",
    "    for epoch in range(num_epochs):\n",
    "        total_reward = 0.0\n",
    "        \n",
    "        for images, labels in dataloader:\n",
    "            # Flatten the images\n",
    "            images = images.view(images.size(0), -1)\n",
    "            \n",
    "            # Forward pass through the Speaker\n",
    "            message = speaker(images)\n",
    "            \n",
    "            # Forward pass through the Listener\n",
    "            logits = listener(message)\n",
    "            \n",
    "            # Sample action (class) from the logits using Categorical distribution\n",
    "            m = Categorical(logits=logits)\n",
    "            action = m.sample()\n",
    "            \n",
    "            # Calculate reward (binary: +1 for correct classification, 0 otherwise)\n",
    "            reward = torch.eq(action, labels).float()\n",
    "            \n",
    "            # Calculate loss for Speaker (REINFORCE loss)\n",
    "            loss_speaker = -m.log_prob(action) * reward\n",
    "            loss_speaker = loss_speaker.mean()\n",
    "            \n",
    "            # Calculate loss for Listener (cross-entropy)\n",
    "            loss_listener = F.cross_entropy(logits, labels)\n",
    "            \n",
    "            # Backpropagation and optimization\n",
    "            optimizer_speaker.zero_grad()\n",
    "            optimizer_listener.zero_grad()\n",
    "            loss_speaker.backward(retain_graph=True)  # Specify retain_graph=True\n",
    "            loss_listener.backward()\n",
    "            optimizer_speaker.step()\n",
    "            optimizer_listener.step()\n",
    "            \n",
    "            total_reward += reward.sum().item()\n",
    "        \n",
    "        avg_reward = total_reward / len(dataloader.dataset)\n",
    "        print(f'Epoch [{epoch + 1}/{num_epochs}], Average Reward: {avg_reward:.4f}')\n",
    "\n",
    "# Example usage:\n",
    "num_epochs = 10  # Adjust the number of epochs as needed\n",
    "optimizer_speaker = optim.Adam(speaker.parameters(), lr=0.001)\n",
    "optimizer_listener = optim.Adam(listener.parameters(), lr=0.001)\n",
    "\n",
    "# Assuming you have 'train_loader' set up with the training data\n",
    "train_agents(speaker, listener, train_loader, optimizer_speaker, optimizer_listener, num_epochs)\n"
   ]
  },
  {
   "cell_type": "code",
   "execution_count": 19,
   "id": "4c3c33de",
   "metadata": {},
   "outputs": [
    {
     "name": "stdout",
     "output_type": "stream",
     "text": [
      "Testing Accuracy of the Listener: 89.00%\n"
     ]
    }
   ],
   "source": [
    "def evaluate_agents(speaker, listener, dataloader):\n",
    "    listener.eval()  # Set the Listener in evaluation mode\n",
    "    correct = 0\n",
    "    total = 0\n",
    "\n",
    "    with torch.no_grad():\n",
    "        for images, labels in dataloader:\n",
    "            # Flatten the images\n",
    "            images = images.view(images.size(0), -1)\n",
    "\n",
    "            # Forward pass through the Speaker\n",
    "            message = speaker(images)\n",
    "\n",
    "            # Forward pass through the Listener\n",
    "            logits = listener(message)\n",
    "\n",
    "            # Get the predicted class\n",
    "            _, predicted = torch.max(logits, 1)\n",
    "\n",
    "            # Calculate accuracy\n",
    "            total += labels.size(0)\n",
    "            correct += (predicted == labels).sum().item()\n",
    "\n",
    "    accuracy = correct / total\n",
    "    print(f'Testing Accuracy of the Listener: {100 * accuracy:.2f}%')\n",
    "\n",
    "# Example usage:\n",
    "# Assuming you have 'test_loader' set up with the testing data\n",
    "evaluate_agents(speaker, listener, test_loader)\n"
   ]
  },
  {
   "cell_type": "code",
   "execution_count": null,
   "id": "fee2b6b3",
   "metadata": {},
   "outputs": [],
   "source": []
  }
 ],
 "metadata": {
  "kernelspec": {
   "display_name": "Python 3 (ipykernel)",
   "language": "python",
   "name": "python3"
  },
  "language_info": {
   "codemirror_mode": {
    "name": "ipython",
    "version": 3
   },
   "file_extension": ".py",
   "mimetype": "text/x-python",
   "name": "python",
   "nbconvert_exporter": "python",
   "pygments_lexer": "ipython3",
   "version": "3.10.9"
  }
 },
 "nbformat": 4,
 "nbformat_minor": 5
}
