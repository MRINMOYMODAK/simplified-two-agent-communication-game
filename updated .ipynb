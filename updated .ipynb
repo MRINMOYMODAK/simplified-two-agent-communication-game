{
 "cells": [
  {
   "cell_type": "code",
   "execution_count": 2,
   "id": "8a0e2853",
   "metadata": {},
   "outputs": [
    {
     "name": "stdout",
     "output_type": "stream",
     "text": [
      "Requirement already satisfied: torchvision in c:\\anaconda\\lib\\site-packages (0.15.2)\n",
      "Requirement already satisfied: requests in c:\\anaconda\\lib\\site-packages (from torchvision) (2.28.1)\n",
      "Requirement already satisfied: torch==2.0.1 in c:\\anaconda\\lib\\site-packages (from torchvision) (2.0.1)\n",
      "Requirement already satisfied: numpy in c:\\anaconda\\lib\\site-packages (from torchvision) (1.23.5)\n",
      "Requirement already satisfied: pillow!=8.3.*,>=5.3.0 in c:\\anaconda\\lib\\site-packages (from torchvision) (9.4.0)\n",
      "Requirement already satisfied: filelock in c:\\anaconda\\lib\\site-packages (from torch==2.0.1->torchvision) (3.9.0)\n",
      "Requirement already satisfied: typing-extensions in c:\\anaconda\\lib\\site-packages (from torch==2.0.1->torchvision) (4.4.0)\n",
      "Requirement already satisfied: jinja2 in c:\\anaconda\\lib\\site-packages (from torch==2.0.1->torchvision) (3.1.2)\n",
      "Requirement already satisfied: networkx in c:\\anaconda\\lib\\site-packages (from torch==2.0.1->torchvision) (2.8.4)\n",
      "Requirement already satisfied: sympy in c:\\anaconda\\lib\\site-packages (from torch==2.0.1->torchvision) (1.11.1)\n",
      "Requirement already satisfied: idna<4,>=2.5 in c:\\anaconda\\lib\\site-packages (from requests->torchvision) (3.4)\n",
      "Requirement already satisfied: urllib3<1.27,>=1.21.1 in c:\\anaconda\\lib\\site-packages (from requests->torchvision) (1.26.14)\n",
      "Requirement already satisfied: charset-normalizer<3,>=2 in c:\\anaconda\\lib\\site-packages (from requests->torchvision) (2.0.4)\n",
      "Requirement already satisfied: certifi>=2017.4.17 in c:\\anaconda\\lib\\site-packages (from requests->torchvision) (2023.7.22)\n",
      "Requirement already satisfied: MarkupSafe>=2.0 in c:\\anaconda\\lib\\site-packages (from jinja2->torch==2.0.1->torchvision) (2.1.1)\n",
      "Requirement already satisfied: mpmath>=0.19 in c:\\anaconda\\lib\\site-packages (from sympy->torch==2.0.1->torchvision) (1.2.1)\n",
      "Note: you may need to restart the kernel to use updated packages.\n"
     ]
    }
   ],
   "source": [
    "#pip install torchvision"
   ]
  },
  {
   "cell_type": "code",
   "execution_count": 21,
   "id": "ef6e6262",
   "metadata": {},
   "outputs": [],
   "source": [
    "import torch\n",
    "import torch.nn as nn\n",
    "import torch.optim as optim\n",
    "from torchvision import datasets, transforms\n",
    "import matplotlib.pyplot as plt\n",
    "import numpy as np"
   ]
  },
  {
   "cell_type": "code",
   "execution_count": 22,
   "id": "2c61eef0",
   "metadata": {},
   "outputs": [
    {
     "ename": "NameError",
     "evalue": "name 'transform' is not defined",
     "output_type": "error",
     "traceback": [
      "\u001b[1;31m---------------------------------------------------------------------------\u001b[0m",
      "\u001b[1;31mNameError\u001b[0m                                 Traceback (most recent call last)",
      "Cell \u001b[1;32mIn[22], line 9\u001b[0m\n\u001b[0;32m      7\u001b[0m \u001b[38;5;66;03m# Now you can run your code to download the CIFAR-10 dataset\u001b[39;00m\n\u001b[0;32m      8\u001b[0m \u001b[38;5;28;01mtry\u001b[39;00m:\n\u001b[1;32m----> 9\u001b[0m     trainset \u001b[38;5;241m=\u001b[39m datasets\u001b[38;5;241m.\u001b[39mCIFAR10(\u001b[38;5;124m'\u001b[39m\u001b[38;5;124mdata\u001b[39m\u001b[38;5;124m'\u001b[39m, train\u001b[38;5;241m=\u001b[39m\u001b[38;5;28;01mTrue\u001b[39;00m, download\u001b[38;5;241m=\u001b[39m\u001b[38;5;28;01mTrue\u001b[39;00m, transform\u001b[38;5;241m=\u001b[39m\u001b[43mtransform\u001b[49m)\n\u001b[0;32m     10\u001b[0m     testset \u001b[38;5;241m=\u001b[39m datasets\u001b[38;5;241m.\u001b[39mCIFAR10(\u001b[38;5;124m'\u001b[39m\u001b[38;5;124mdata\u001b[39m\u001b[38;5;124m'\u001b[39m, train\u001b[38;5;241m=\u001b[39m\u001b[38;5;28;01mFalse\u001b[39;00m, download\u001b[38;5;241m=\u001b[39m\u001b[38;5;28;01mTrue\u001b[39;00m, transform\u001b[38;5;241m=\u001b[39mtransform)\n\u001b[0;32m     11\u001b[0m \u001b[38;5;28;01mexcept\u001b[39;00m urllib\u001b[38;5;241m.\u001b[39merror\u001b[38;5;241m.\u001b[39mURLError \u001b[38;5;28;01mas\u001b[39;00m e:\n",
      "\u001b[1;31mNameError\u001b[0m: name 'transform' is not defined"
     ]
    }
   ],
   "source": [
    "# import ssl\n",
    "# import urllib.request\n",
    "\n",
    "# # Disable SSL certificate verification\n",
    "# ssl._create_default_https_context = ssl._create_unverified_context\n",
    "\n",
    "# # Now you can run your code to download the CIFAR-10 dataset\n",
    "# try:\n",
    "#     trainset = datasets.CIFAR10('data', train=True, download=True, transform=transform)\n",
    "#     testset = datasets.CIFAR10('data', train=False, download=True, transform=transform)\n",
    "# except urllib.error.URLError as e:\n",
    "#     print(f\"URLError: {e}\")\n",
    "\n"
   ]
  },
  {
   "cell_type": "code",
   "execution_count": 23,
   "id": "195a4502",
   "metadata": {},
   "outputs": [
    {
     "name": "stdout",
     "output_type": "stream",
     "text": [
      "Files already downloaded and verified\n",
      "Files already downloaded and verified\n"
     ]
    }
   ],
   "source": [
    "# Load CIFAR-10 dataset\n",
    "transform = transforms.Compose([transforms.ToTensor(), transforms.Normalize((0.5,), (0.5,))])\n",
    "trainset = datasets.CIFAR10('data', train=True, download=True, transform=transform)\n",
    "testset = datasets.CIFAR10('data', train=False, download=True, transform=transform)"
   ]
  },
  {
   "cell_type": "code",
   "execution_count": 24,
   "id": "02acdf72",
   "metadata": {},
   "outputs": [],
   "source": [
    "# Filter out airplane and automobile images\n",
    "trainset = [(img, label) for img, label in trainset if label in [0, 1]] # airplane = 0, automobile=1 \n",
    "testset = [(img, label) for img, label in testset if label in [0, 1]]"
   ]
  },
  {
   "cell_type": "code",
   "execution_count": 25,
   "id": "dc34ff2a",
   "metadata": {},
   "outputs": [],
   "source": [
    "# Define Speaker and Listener models\n",
    "class Speaker(nn.Module):\n",
    "    def __init__(self):\n",
    "        super(Speaker, self).__init__()\n",
    "        self.encoder = nn.Sequential(\n",
    "            nn.Linear(3072, 512),\n",
    "            nn.ReLU(),\n",
    "            nn.Linear(512, 128),\n",
    "            nn.ReLU(),\n",
    "            nn.Linear(128, 5),\n",
    "            nn.Sigmoid()\n",
    "        )\n",
    "\n",
    "    def forward(self, x):\n",
    "        x = x.view(-1, 3072)\n",
    "        x = self.encoder(x)\n",
    "        return x\n",
    "    \n",
    "class Listener(nn.Module):\n",
    "    def __init__(self):\n",
    "        super(Listener, self).__init__()\n",
    "        self.decoder = nn.Sequential(\n",
    "            nn.Linear(5, 128),\n",
    "            nn.ReLU(),\n",
    "            nn.Linear(128, 2),\n",
    "            nn.Softmax(dim=1)\n",
    "        )\n",
    "\n",
    "    def forward(self, x):\n",
    "        x = self.decoder(x)\n",
    "        return x"
   ]
  },
  {
   "cell_type": "code",
   "execution_count": 26,
   "id": "81b56d5f",
   "metadata": {},
   "outputs": [],
   "source": [
    "# Define training function\n",
    "def train(speaker, listener, optimizer_speaker, optimizer_listener, criterion, trainloader):\n",
    "    speaker.train()\n",
    "    listener.train()\n",
    "    running_loss = 0.0\n",
    "    for i, (images, labels) in enumerate(trainloader):\n",
    "        optimizer_speaker.zero_grad()\n",
    "        optimizer_listener.zero_grad()\n",
    "        messages = speaker(images)\n",
    "        outputs = listener(messages)\n",
    "        loss = criterion(outputs, labels)\n",
    "        loss.backward()\n",
    "        optimizer_speaker.step()\n",
    "        optimizer_listener.step()\n",
    "        running_loss += loss.item()\n",
    "    return running_loss / len(trainloader)"
   ]
  },
  {
   "cell_type": "code",
   "execution_count": 27,
   "id": "25a3640d",
   "metadata": {},
   "outputs": [],
   "source": [
    "# Define testing function\n",
    "def test(speaker, listener, criterion, testloader):\n",
    "    speaker.eval()\n",
    "    listener.eval()\n",
    "    test_loss = 0.0\n",
    "    correct = 0\n",
    "    with torch.no_grad():\n",
    "        for images, labels in testloader:\n",
    "            messages = speaker(images)\n",
    "            outputs = listener(messages)\n",
    "            test_loss += criterion(outputs, labels).item()\n",
    "            predicted = outputs.argmax(dim=1)\n",
    "            correct += (predicted == labels).sum().item()\n",
    "\n",
    "    test_loss /= len(testloader)\n",
    "    accuracy = correct / len(testloader.dataset)\n",
    "    return test_loss, accuracy"
   ]
  },
  {
   "cell_type": "code",
   "execution_count": 28,
   "id": "b5beeef4",
   "metadata": {},
   "outputs": [],
   "source": [
    "# Define parameters\n",
    "lr = 0.001\n",
    "batch_size = 64\n",
    "num_epochs = 5"
   ]
  },
  {
   "cell_type": "code",
   "execution_count": 29,
   "id": "f5f81aa2",
   "metadata": {},
   "outputs": [],
   "source": [
    "# Create data loaders\n",
    "trainloader = torch.utils.data.DataLoader(trainset, batch_size=batch_size, shuffle=True)\n",
    "testloader = torch.utils.data.DataLoader(testset, batch_size=batch_size, shuffle=False)"
   ]
  },
  {
   "cell_type": "code",
   "execution_count": 30,
   "id": "60df19e7",
   "metadata": {},
   "outputs": [],
   "source": [
    "# Initialize models and optimizers\n",
    "speaker = Speaker()\n",
    "listener = Listener()\n",
    "criterion = nn.CrossEntropyLoss()\n",
    "optimizer_speaker = optim.Adam(speaker.parameters(), lr=lr)\n",
    "optimizer_listener = optim.Adam(listener.parameters(), lr=lr)"
   ]
  },
  {
   "cell_type": "code",
   "execution_count": 31,
   "id": "72a10d4b",
   "metadata": {},
   "outputs": [
    {
     "name": "stdout",
     "output_type": "stream",
     "text": [
      "Epoch 1: Train Loss=0.5394, Test Loss=0.5050, Accuracy=0.7965\n",
      "Epoch 2: Train Loss=0.4814, Test Loss=0.4687, Accuracy=0.8460\n",
      "Epoch 3: Train Loss=0.4653, Test Loss=0.4625, Accuracy=0.8410\n",
      "Epoch 4: Train Loss=0.4513, Test Loss=0.4462, Accuracy=0.8610\n",
      "Epoch 5: Train Loss=0.4443, Test Loss=0.4428, Accuracy=0.8630\n"
     ]
    }
   ],
   "source": [
    "# Train models\n",
    "for epoch in range(num_epochs):\n",
    "    train_loss = train(speaker, listener, optimizer_speaker, optimizer_listener, criterion, trainloader)\n",
    "    test_loss, accuracy = test(speaker, listener, criterion, testloader)\n",
    "    print(f\"Epoch {epoch+1}: Train Loss={train_loss:.4f}, Test Loss={test_loss:.4f}, Accuracy={accuracy:.4f}\")"
   ]
  },
  {
   "cell_type": "code",
   "execution_count": 35,
   "id": "0ba8ad24",
   "metadata": {},
   "outputs": [
    {
     "name": "stdout",
     "output_type": "stream",
     "text": [
      "Accuracy on test set: 86.30%\n"
     ]
    },
    {
     "data": {
      "image/png": "[encoded data removed]",
      "text/plain": [
       "<Figure size 640x480 with 2 Axes>"
      ]
     },
     "metadata": {},
     "output_type": "display_data"
    },
    {
     "data": {
      "image/png": "[encoded data removed]",
      "text/plain": [
       "<Figure size 640x480 with 2 Axes>"
      ]
     },
     "metadata": {},
     "output_type": "display_data"
    }
   ],
   "source": [
    "# Calculate accuracy on test set\n",
    "speaker.eval()\n",
    "listener.eval()\n",
    "correct = 0\n",
    "total = 0\n",
    "with torch.no_grad():\n",
    "    for image, label in testset:\n",
    "        message = speaker(image.unsqueeze(0))\n",
    "        output = listener(message)\n",
    "        predicted_label = output.argmax(dim=1).item()\n",
    "        if predicted_label == label:\n",
    "            correct += 1\n",
    "        total += 1\n",
    "\n",
    "accuracy = correct / total * 100\n",
    "print(f\"Accuracy on test set: {accuracy:.2f}%\")\n",
    "\n",
    "# Show predicted labels and actual labels for two images from the test set\n",
    "with torch.no_grad():\n",
    "    for i in range(2):\n",
    "        image, label = testset[i]\n",
    "        message = speaker(image.unsqueeze(0))\n",
    "        output = listener(message)\n",
    "        predicted_label = output.argmax(dim=1).item()\n",
    "\n",
    "        # Convert image tensor to numpy array and transpose dimensions\n",
    "        image_np = image.permute(1, 2, 0).numpy()\n",
    "\n",
    "        # Denormalize image array\n",
    "        image_np = (image_np * 0.5) + 0.5\n",
    "\n",
    "        # Show predicted and actual labels and images using matplotlib\n",
    "        fig, ax = plt.subplots(nrows=1, ncols=2)\n",
    "        fig.suptitle(f\"Predicted: {predicted_label}, Actual: {label}\")\n",
    "        ax[0].imshow(image_np)\n",
    "        ax[0].set_title(\"Actual Image\")\n",
    "        ax[0].axis(\"off\")\n",
    "        ax[1].bar(range(2), output.squeeze().numpy())\n",
    "        ax[1].set_xticks(range(2))\n",
    "        ax[1].set_xticklabels([\"Airplane\", \"Automobile\"])\n",
    "        ax[1].set_title(\"Predicted Probabilities\")\n",
    "        plt.show()\n"
   ]
  },
  {
   "cell_type": "code",
   "execution_count": null,
   "id": "172f329e",
   "metadata": {},
   "outputs": [],
   "source": []
  },
  {
   "cell_type": "code",
   "execution_count": null,
   "id": "1541c132",
   "metadata": {},
   "outputs": [],
   "source": []
  }
 ],
 "metadata": {
  "kernelspec": {
   "display_name": "Python 3 (ipykernel)",
   "language": "python",
   "name": "python3"
  },
  "language_info": {
   "codemirror_mode": {
    "name": "ipython",
    "version": 3
   },
   "file_extension": ".py",
   "mimetype": "text/x-python",
   "name": "python",
   "nbconvert_exporter": "python",
   "pygments_lexer": "ipython3",
   "version": "3.10.9"
  }
 },
 "nbformat": 4,
 "nbformat_minor": 5
}
